{
  "cells": [
    {
      "metadata": {
        "trusted": true
      },
      "cell_type": "code",
      "source": "import azureml\nfrom azureml.core import Workspace, Run\n\n# check core SDK version number\nprint(\"Azure ML SDK Version: \", azureml.core.VERSION)",
      "execution_count": 1,
      "outputs": [
        {
          "output_type": "stream",
          "text": "Azure ML SDK Version:  1.0.2\n",
          "name": "stdout"
        }
      ]
    },
    {
      "metadata": {
        "trusted": true
      },
      "cell_type": "code",
      "source": "## CONNECT TO A WORKSPACE\n\n# load workspace configuration from the config.json file in the current folder.\nws = Workspace.from_config()\nprint(ws.name, ws.location, ws.resource_group, ws.location, sep = '\\t')",
      "execution_count": 2,
      "outputs": [
        {
          "output_type": "stream",
          "text": "Found the config file in: /home/nbuser/library/config.json\nPerforming interactive authentication. Please follow the instructions on the terminal.\n",
          "name": "stdout"
        },
        {
          "output_type": "stream",
          "text": "To sign in, use a web browser to open the page https://microsoft.com/devicelogin and enter the code FMFYA294M to authenticate.\n",
          "name": "stderr"
        },
        {
          "output_type": "stream",
          "text": "Interactive authentication successfully completed.\nToy_ML_workspace\teastus\tmy_ml_resources_group\teastus\n",
          "name": "stdout"
        }
      ]
    },
    {
      "metadata": {
        "trusted": true
      },
      "cell_type": "code",
      "source": "## CREATE AN EXPERIMENT\n\nexperiment_name = 'first_clasifier'\n\nfrom azureml.core import Experiment\nexp = Experiment(workspace=ws, name=experiment_name)",
      "execution_count": 4,
      "outputs": []
    },
    {
      "metadata": {
        "trusted": true
      },
      "cell_type": "code",
      "source": "## CREAT AML COMPUTE INSTANCE\n\nfrom azureml.core.compute import AmlCompute\nfrom azureml.core.compute import ComputeTarget\nimport os\n\n# choose a name for your cluster\ncompute_name = os.environ.get(\"AML_COMPUTE_CLUSTER_NAME\", \"cpucluster\")\ncompute_min_nodes = os.environ.get(\"AML_COMPUTE_CLUSTER_MIN_NODES\", 0)\ncompute_max_nodes = os.environ.get(\"AML_COMPUTE_CLUSTER_MAX_NODES\", 1)\n\n# This example uses CPU VM. For using GPU VM, set SKU to STANDARD_NC6\nvm_size = os.environ.get(\"AML_COMPUTE_CLUSTER_SKU\", \"STANDARD_D2_V2\")\n\n\nif compute_name in ws.compute_targets:\n    compute_target = ws.compute_targets[compute_name]\n    if compute_target and type(compute_target) is AmlCompute:\n        print('found compute target. just use it. ' + compute_name)\nelse:\n    print('creating a new compute target...')\n    provisioning_config = AmlCompute.provisioning_configuration(vm_size = vm_size,\n                                                                min_nodes = compute_min_nodes, \n                                                                max_nodes = compute_max_nodes)\n\n    # create the cluster\n    compute_target = ComputeTarget.create(ws, compute_name, provisioning_config)\n    \n    # can poll for a minimum number of nodes and for a specific timeout. \n    # if no min node count is provided it will use the scale settings for the cluster\n    compute_target.wait_for_completion(show_output=True, min_node_count=None, timeout_in_minutes=20)\n    \n     # For a more detailed view of current AmlCompute status, use the 'status' property    \n    print(compute_target.status.serialize())",
      "execution_count": 6,
      "outputs": [
        {
          "output_type": "stream",
          "text": "creating a new compute target...\nCreating\nSucceeded\nAmlCompute wait for completion finished\nMinimum number of nodes requested have been provisioned\n{'allocationState': 'Steady', 'allocationStateTransitionTime': '2018-12-09T07:06:14.411000+00:00', 'creationTime': '2018-12-09T07:01:57.730208+00:00', 'currentNodeCount': 0, 'errors': None, 'modifiedTime': '2018-12-09T07:06:24.012667+00:00', 'nodeStateCounts': {'idleNodeCount': 0, 'leavingNodeCount': 0, 'preemptedNodeCount': 0, 'preparingNodeCount': 0, 'runningNodeCount': 0, 'unusableNodeCount': 0}, 'provisioningState': 'Succeeded', 'provisioningStateTransitionTime': None, 'scaleSettings': {'minNodeCount': 0, 'maxNodeCount': 1, 'nodeIdleTimeBeforeScaleDown': 'PT120S'}, 'targetNodeCount': 0, 'vmPriority': 'Dedicated', 'vmSize': 'STANDARD_D2_V2'}\n",
          "name": "stdout"
        }
      ]
    },
    {
      "metadata": {
        "trusted": true
      },
      "cell_type": "code",
      "source": "## Import packages for training\n\nimport pandas as pd\nfrom sklearn.model_selection import train_test_split\nfrom sklearn import preprocessing\nimport tensorflow as tf\nimport os",
      "execution_count": 10,
      "outputs": []
    },
    {
      "metadata": {
        "trusted": true
      },
      "cell_type": "code",
      "source": "## DOWNLOAD THE DATASET\n\ncols = ['Pregnancies','Glucose','BloodPressure','SkinThickness','Insulin','BMI','DiabetesPedigreeFunction','Age','Outcome']\nurl=\"https://raw.githubusercontent.com/jbrownlee/Datasets/master/pima-indians-diabetes.data.csv\"\ndataset=pd.read_csv(url,names=cols)\nprint(dataset)",
      "execution_count": 24,
      "outputs": [
        {
          "output_type": "stream",
          "text": "     Pregnancies  Glucose  BloodPressure  SkinThickness  Insulin   BMI  \\\n0              6      148             72             35        0  33.6   \n1              1       85             66             29        0  26.6   \n2              8      183             64              0        0  23.3   \n3              1       89             66             23       94  28.1   \n4              0      137             40             35      168  43.1   \n5              5      116             74              0        0  25.6   \n6              3       78             50             32       88  31.0   \n7             10      115              0              0        0  35.3   \n8              2      197             70             45      543  30.5   \n9              8      125             96              0        0   0.0   \n10             4      110             92              0        0  37.6   \n11            10      168             74              0        0  38.0   \n12            10      139             80              0        0  27.1   \n13             1      189             60             23      846  30.1   \n14             5      166             72             19      175  25.8   \n15             7      100              0              0        0  30.0   \n16             0      118             84             47      230  45.8   \n17             7      107             74              0        0  29.6   \n18             1      103             30             38       83  43.3   \n19             1      115             70             30       96  34.6   \n20             3      126             88             41      235  39.3   \n21             8       99             84              0        0  35.4   \n22             7      196             90              0        0  39.8   \n23             9      119             80             35        0  29.0   \n24            11      143             94             33      146  36.6   \n25            10      125             70             26      115  31.1   \n26             7      147             76              0        0  39.4   \n27             1       97             66             15      140  23.2   \n28            13      145             82             19      110  22.2   \n29             5      117             92              0        0  34.1   \n..           ...      ...            ...            ...      ...   ...   \n738            2       99             60             17      160  36.6   \n739            1      102             74              0        0  39.5   \n740           11      120             80             37      150  42.3   \n741            3      102             44             20       94  30.8   \n742            1      109             58             18      116  28.5   \n743            9      140             94              0        0  32.7   \n744           13      153             88             37      140  40.6   \n745           12      100             84             33      105  30.0   \n746            1      147             94             41        0  49.3   \n747            1       81             74             41       57  46.3   \n748            3      187             70             22      200  36.4   \n749            6      162             62              0        0  24.3   \n750            4      136             70              0        0  31.2   \n751            1      121             78             39       74  39.0   \n752            3      108             62             24        0  26.0   \n753            0      181             88             44      510  43.3   \n754            8      154             78             32        0  32.4   \n755            1      128             88             39      110  36.5   \n756            7      137             90             41        0  32.0   \n757            0      123             72              0        0  36.3   \n758            1      106             76              0        0  37.5   \n759            6      190             92              0        0  35.5   \n760            2       88             58             26       16  28.4   \n761            9      170             74             31        0  44.0   \n762            9       89             62              0        0  22.5   \n763           10      101             76             48      180  32.9   \n764            2      122             70             27        0  36.8   \n765            5      121             72             23      112  26.2   \n766            1      126             60              0        0  30.1   \n767            1       93             70             31        0  30.4   \n\n     DiabetesPedigreeFunction  Age  Outcome  \n0                       0.627   50        1  \n1                       0.351   31        0  \n2                       0.672   32        1  \n3                       0.167   21        0  \n4                       2.288   33        1  \n5                       0.201   30        0  \n6                       0.248   26        1  \n7                       0.134   29        0  \n8                       0.158   53        1  \n9                       0.232   54        1  \n10                      0.191   30        0  \n11                      0.537   34        1  \n12                      1.441   57        0  \n13                      0.398   59        1  \n14                      0.587   51        1  \n15                      0.484   32        1  \n16                      0.551   31        1  \n17                      0.254   31        1  \n18                      0.183   33        0  \n19                      0.529   32        1  \n20                      0.704   27        0  \n21                      0.388   50        0  \n22                      0.451   41        1  \n23                      0.263   29        1  \n24                      0.254   51        1  \n25                      0.205   41        1  \n26                      0.257   43        1  \n27                      0.487   22        0  \n28                      0.245   57        0  \n29                      0.337   38        0  \n..                        ...  ...      ...  \n738                     0.453   21        0  \n739                     0.293   42        1  \n740                     0.785   48        1  \n741                     0.400   26        0  \n742                     0.219   22        0  \n743                     0.734   45        1  \n744                     1.174   39        0  \n745                     0.488   46        0  \n746                     0.358   27        1  \n747                     1.096   32        0  \n748                     0.408   36        1  \n749                     0.178   50        1  \n750                     1.182   22        1  \n751                     0.261   28        0  \n752                     0.223   25        0  \n753                     0.222   26        1  \n754                     0.443   45        1  \n755                     1.057   37        1  \n756                     0.391   39        0  \n757                     0.258   52        1  \n758                     0.197   26        0  \n759                     0.278   66        1  \n760                     0.766   22        0  \n761                     0.403   43        1  \n762                     0.142   33        0  \n763                     0.171   63        0  \n764                     0.340   27        0  \n765                     0.245   30        0  \n766                     0.349   47        1  \n767                     0.315   23        0  \n\n[768 rows x 9 columns]\n",
          "name": "stdout"
        }
      ]
    },
    {
      "metadata": {
        "trusted": true
      },
      "cell_type": "code",
      "source": "## Split the data into features and target\n\nfeatures = dataset.loc[:, dataset.columns != 'Outcome']\ntarget = dataset.loc[:, dataset.columns == 'Outcome']\nfeatures.head()",
      "execution_count": 25,
      "outputs": [
        {
          "output_type": "execute_result",
          "execution_count": 25,
          "data": {
            "text/html": "<div>\n<style scoped>\n    .dataframe tbody tr th:only-of-type {\n        vertical-align: middle;\n    }\n\n    .dataframe tbody tr th {\n        vertical-align: top;\n    }\n\n    .dataframe thead th {\n        text-align: right;\n    }\n</style>\n<table border=\"1\" class=\"dataframe\">\n  <thead>\n    <tr style=\"text-align: right;\">\n      <th></th>\n      <th>Pregnancies</th>\n      <th>Glucose</th>\n      <th>BloodPressure</th>\n      <th>SkinThickness</th>\n      <th>Insulin</th>\n      <th>BMI</th>\n      <th>DiabetesPedigreeFunction</th>\n      <th>Age</th>\n    </tr>\n  </thead>\n  <tbody>\n    <tr>\n      <th>0</th>\n      <td>6</td>\n      <td>148</td>\n      <td>72</td>\n      <td>35</td>\n      <td>0</td>\n      <td>33.6</td>\n      <td>0.627</td>\n      <td>50</td>\n    </tr>\n    <tr>\n      <th>1</th>\n      <td>1</td>\n      <td>85</td>\n      <td>66</td>\n      <td>29</td>\n      <td>0</td>\n      <td>26.6</td>\n      <td>0.351</td>\n      <td>31</td>\n    </tr>\n    <tr>\n      <th>2</th>\n      <td>8</td>\n      <td>183</td>\n      <td>64</td>\n      <td>0</td>\n      <td>0</td>\n      <td>23.3</td>\n      <td>0.672</td>\n      <td>32</td>\n    </tr>\n    <tr>\n      <th>3</th>\n      <td>1</td>\n      <td>89</td>\n      <td>66</td>\n      <td>23</td>\n      <td>94</td>\n      <td>28.1</td>\n      <td>0.167</td>\n      <td>21</td>\n    </tr>\n    <tr>\n      <th>4</th>\n      <td>0</td>\n      <td>137</td>\n      <td>40</td>\n      <td>35</td>\n      <td>168</td>\n      <td>43.1</td>\n      <td>2.288</td>\n      <td>33</td>\n    </tr>\n  </tbody>\n</table>\n</div>",
            "text/plain": "   Pregnancies  Glucose  BloodPressure  SkinThickness  Insulin   BMI  \\\n0            6      148             72             35        0  33.6   \n1            1       85             66             29        0  26.6   \n2            8      183             64              0        0  23.3   \n3            1       89             66             23       94  28.1   \n4            0      137             40             35      168  43.1   \n\n   DiabetesPedigreeFunction  Age  \n0                     0.627   50  \n1                     0.351   31  \n2                     0.672   32  \n3                     0.167   21  \n4                     2.288   33  "
          },
          "metadata": {}
        }
      ]
    },
    {
      "metadata": {
        "trusted": true
      },
      "cell_type": "code",
      "source": "target.head()",
      "execution_count": 26,
      "outputs": [
        {
          "output_type": "execute_result",
          "execution_count": 26,
          "data": {
            "text/html": "<div>\n<style scoped>\n    .dataframe tbody tr th:only-of-type {\n        vertical-align: middle;\n    }\n\n    .dataframe tbody tr th {\n        vertical-align: top;\n    }\n\n    .dataframe thead th {\n        text-align: right;\n    }\n</style>\n<table border=\"1\" class=\"dataframe\">\n  <thead>\n    <tr style=\"text-align: right;\">\n      <th></th>\n      <th>Outcome</th>\n    </tr>\n  </thead>\n  <tbody>\n    <tr>\n      <th>0</th>\n      <td>1</td>\n    </tr>\n    <tr>\n      <th>1</th>\n      <td>0</td>\n    </tr>\n    <tr>\n      <th>2</th>\n      <td>1</td>\n    </tr>\n    <tr>\n      <th>3</th>\n      <td>0</td>\n    </tr>\n    <tr>\n      <th>4</th>\n      <td>1</td>\n    </tr>\n  </tbody>\n</table>\n</div>",
            "text/plain": "   Outcome\n0        1\n1        0\n2        1\n3        0\n4        1"
          },
          "metadata": {}
        }
      ]
    },
    {
      "metadata": {
        "trusted": true
      },
      "cell_type": "code",
      "source": "## Normalize the features\n\nfeatures_normalized = preprocessing.scale(features)\nfeatures_normalized.shape",
      "execution_count": 27,
      "outputs": [
        {
          "output_type": "execute_result",
          "execution_count": 27,
          "data": {
            "text/plain": "(768, 8)"
          },
          "metadata": {}
        }
      ]
    },
    {
      "metadata": {
        "trusted": true
      },
      "cell_type": "code",
      "source": "## Convert the target to array\n\ntarget = target.values\ntype(target)\ntarget.shape",
      "execution_count": 28,
      "outputs": [
        {
          "output_type": "execute_result",
          "execution_count": 28,
          "data": {
            "text/plain": "(768, 1)"
          },
          "metadata": {}
        }
      ]
    },
    {
      "metadata": {
        "trusted": true
      },
      "cell_type": "code",
      "source": "## Split the dataset features, target into train and test\n\nX_train, X_test, y_train, y_test = train_test_split(features_normalized, target, test_size=0.2, random_state=42)\nprint(X_train.shape)\nprint(y_train.shape)\nprint(X_test.shape)\nprint(y_test.shape)",
      "execution_count": 29,
      "outputs": [
        {
          "output_type": "stream",
          "text": "(614, 8)\n(614, 1)\n(154, 8)\n(154, 1)\n",
          "name": "stdout"
        }
      ]
    },
    {
      "metadata": {
        "trusted": true
      },
      "cell_type": "code",
      "source": "",
      "execution_count": null,
      "outputs": []
    }
  ],
  "metadata": {
    "kernelspec": {
      "name": "python36",
      "display_name": "Python 3.6",
      "language": "python"
    },
    "language_info": {
      "mimetype": "text/x-python",
      "nbconvert_exporter": "python",
      "name": "python",
      "pygments_lexer": "ipython3",
      "version": "3.6.6",
      "file_extension": ".py",
      "codemirror_mode": {
        "version": 3,
        "name": "ipython"
      }
    }
  },
  "nbformat": 4,
  "nbformat_minor": 2
}